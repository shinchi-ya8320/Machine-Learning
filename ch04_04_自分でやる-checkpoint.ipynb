{
 "cells": [
  {
   "cell_type": "markdown",
   "id": "fallen-announcement",
   "metadata": {},
   "source": [
    "評価"
   ]
  },
  {
   "cell_type": "code",
   "execution_count": 1,
   "id": "acknowledged-chambers",
   "metadata": {},
   "outputs": [],
   "source": [
    "#共通前処理\n",
    "\n",
    "#余分なワーニングの非表示\n",
    "import warnings \n",
    "warnings.filterwarnings('ignore')\n",
    "\n",
    "import numpy as np\n",
    "import pandas as pd\n",
    "from matplotlib import pyplot as plt\n",
    "import japanize_matplotlib\n",
    "\n",
    "from IPython.display import display\n",
    "\n",
    "#表示オプションの調整\n",
    "np.set_printoptions(suppress=True, precision=4)\n",
    "pd.options.display.float_format = '{:.4f}'.format\n",
    "\n",
    "#データフレームですべての項目を表示\n",
    "pd.set_option('display.max_columns',None)\n",
    "\n",
    "plt.rcParams['font.size'] = 14\n",
    "\n",
    "random_seed =123"
   ]
  },
  {
   "cell_type": "markdown",
   "id": "swedish-minutes",
   "metadata": {},
   "source": [
    "混同行列"
   ]
  },
  {
   "cell_type": "code",
   "execution_count": 2,
   "id": "surprised-separate",
   "metadata": {},
   "outputs": [],
   "source": [
    "#データの読み込みからデータ分割\n",
    "\n",
    "from sklearn.datasets import load_breast_cancer\n",
    "\n",
    "#データのロード\n",
    "cancer = load_breast_cancer()\n",
    "\n",
    "#入力データ\n",
    "x = cancer.data\n",
    "\n",
    "#正解データ\n",
    "#0が良性で1が悪性\n",
    "y = 1 - cancer.target\n",
    "\n",
    "#入力データを2次元に\n",
    "x2 = x[:,:2]\n",
    "\n",
    "#データ分割\n",
    "from sklearn.model_selection import train_test_split\n",
    "x_train, x_test, y_train, y_test = train_test_split(x2, y, train_size=0.7, test_size=0.3, random_state=random_seed)\n"
   ]
  },
  {
   "cell_type": "code",
   "execution_count": 3,
   "id": "charitable-measure",
   "metadata": {},
   "outputs": [
    {
     "name": "stdout",
     "output_type": "stream",
     "text": [
      "score: 0.8772\n"
     ]
    }
   ],
   "source": [
    "#アルゴリズムの選択から評価まで\n",
    "\n",
    "from sklearn.linear_model import LogisticRegression\n",
    "algorithm = LogisticRegression(random_state=random_seed)\n",
    "\n",
    "#学習\n",
    "algorithm.fit(x_train, y_train)\n",
    "\n",
    "#予測\n",
    "y_pred = algorithm.predict(x_test)\n",
    "\n",
    "#評価\n",
    "score = algorithm.score(x_test, y_test)\n",
    "\n",
    "#結果\n",
    "print(f'score: {score:.4f}')"
   ]
  },
  {
   "cell_type": "code",
   "execution_count": 4,
   "id": "circular-juice",
   "metadata": {},
   "outputs": [
    {
     "name": "stdout",
     "output_type": "stream",
     "text": [
      "[[101   2]\n",
      " [ 19  49]]\n"
     ]
    }
   ],
   "source": [
    "#混同行列の計算\n",
    "\n",
    "from sklearn.metrics import confusion_matrix\n",
    "\n",
    "#混同行列の生成。検証データと予測結果\n",
    "matrix = confusion_matrix(y_test, y_pred)\n",
    "\n",
    "#結果の確認\n",
    "print(matrix)"
   ]
  },
  {
   "cell_type": "markdown",
   "id": "irish-assumption",
   "metadata": {},
   "source": [
    "### 混同行列はconfusion_matrixで表示できるが、数値だけではわかりにくいので以下関数を作成し分かりやすく表示する"
   ]
  },
  {
   "cell_type": "code",
   "execution_count": 5,
   "id": "cloudy-rochester",
   "metadata": {},
   "outputs": [],
   "source": [
    "#混同行列表示用関数の定義\n",
    "\n",
    "def make_cm(matrix, columns):vars\n",
    "    \n",
    "    n = len(columns)\n",
    "    \n",
    "    #正解データをn回繰り返すリスト生成\n",
    "    act = ['正解データ'] * n\n",
    "    pred = ['予測結果'] * n\n",
    "    \n",
    "    #データフレームの生成\n",
    "    cm = pd.DataFrame(matrix, columns=[pred, columns], index=[act, columns])\n",
    "\n",
    "    return cm"
   ]
  },
  {
   "cell_type": "code",
   "execution_count": 6,
   "id": "subject-amino",
   "metadata": {},
   "outputs": [
    {
     "data": {
      "text/html": [
       "<div>\n",
       "<style scoped>\n",
       "    .dataframe tbody tr th:only-of-type {\n",
       "        vertical-align: middle;\n",
       "    }\n",
       "\n",
       "    .dataframe tbody tr th {\n",
       "        vertical-align: top;\n",
       "    }\n",
       "\n",
       "    .dataframe thead tr th {\n",
       "        text-align: left;\n",
       "    }\n",
       "</style>\n",
       "<table border=\"1\" class=\"dataframe\">\n",
       "  <thead>\n",
       "    <tr>\n",
       "      <th></th>\n",
       "      <th></th>\n",
       "      <th colspan=\"2\" halign=\"left\">予測結果</th>\n",
       "    </tr>\n",
       "    <tr>\n",
       "      <th></th>\n",
       "      <th></th>\n",
       "      <th>良性</th>\n",
       "      <th>悪性</th>\n",
       "    </tr>\n",
       "  </thead>\n",
       "  <tbody>\n",
       "    <tr>\n",
       "      <th rowspan=\"2\" valign=\"top\">正解データ</th>\n",
       "      <th>良性</th>\n",
       "      <td>101</td>\n",
       "      <td>2</td>\n",
       "    </tr>\n",
       "    <tr>\n",
       "      <th>悪性</th>\n",
       "      <td>19</td>\n",
       "      <td>49</td>\n",
       "    </tr>\n",
       "  </tbody>\n",
       "</table>\n",
       "</div>"
      ],
      "text/plain": [
       "         予測結果    \n",
       "           良性  悪性\n",
       "正解データ 良性  101   2\n",
       "      悪性   19  49"
      ]
     },
     "metadata": {},
     "output_type": "display_data"
    }
   ],
   "source": [
    "cm = make_cm(matrix ,['良性', '悪性'])\n",
    "display(cm)"
   ]
  },
  {
   "cell_type": "markdown",
   "id": "angry-burns",
   "metadata": {},
   "source": [
    "精度、適合率、再現率、F値について"
   ]
  },
  {
   "cell_type": "code",
   "execution_count": 7,
   "id": "neural-commerce",
   "metadata": {},
   "outputs": [
    {
     "name": "stdout",
     "output_type": "stream",
     "text": [
      "適合率: 0.9608\n",
      "再現率: 0.7206\n",
      "F値: 0.8235\n"
     ]
    }
   ],
   "source": [
    "#適合率、再現率、F値の計算\n",
    "\n",
    "from sklearn.metrics import precision_recall_fscore_support\n",
    "\n",
    "precision, recall, fscore, _ = precision_recall_fscore_support(y_test, y_pred, average='binary')\n",
    "\n",
    "#結果\n",
    "print(f'適合率: {precision:.4f}')\n",
    "print(f'再現率: {recall:.4f}')\n",
    "print(f'F値: {fscore:.4f}')"
   ]
  },
  {
   "cell_type": "markdown",
   "id": "departmental-valve",
   "metadata": {},
   "source": [
    "確率値と閾値について"
   ]
  },
  {
   "cell_type": "code",
   "execution_count": 8,
   "id": "severe-september",
   "metadata": {},
   "outputs": [
    {
     "name": "stdout",
     "output_type": "stream",
     "text": [
      "[[0.9925 0.0075]\n",
      " [0.9981 0.0019]\n",
      " [0.0719 0.9281]\n",
      " [0.8134 0.1866]\n",
      " [0.0345 0.9655]\n",
      " [0.6376 0.3624]\n",
      " [0.9694 0.0306]\n",
      " [0.9743 0.0257]\n",
      " [0.76   0.24  ]\n",
      " [0.9775 0.0225]\n",
      " [0.7889 0.2111]\n",
      " [0.0812 0.9188]\n",
      " [0.8383 0.1617]\n",
      " [0.9391 0.0609]\n",
      " [0.369  0.631 ]\n",
      " [0.9451 0.0549]\n",
      " [0.9399 0.0601]\n",
      " [0.9494 0.0506]\n",
      " [0.9617 0.0383]\n",
      " [0.9836 0.0164]\n",
      " [0.0006 0.9994]\n",
      " [0.8317 0.1683]\n",
      " [0.8527 0.1473]\n",
      " [0.9809 0.0191]\n",
      " [0.8678 0.1322]\n",
      " [0.0975 0.9025]\n",
      " [0.1655 0.8345]\n",
      " [0.9769 0.0231]\n",
      " [0.2462 0.7538]\n",
      " [0.9928 0.0072]\n",
      " [0.9692 0.0308]\n",
      " [0.9973 0.0027]\n",
      " [0.9525 0.0475]\n",
      " [0.9777 0.0223]\n",
      " [0.4653 0.5347]\n",
      " [0.9764 0.0236]\n",
      " [0.783  0.217 ]\n",
      " [0.9626 0.0374]\n",
      " [0.9365 0.0635]\n",
      " [0.0056 0.9944]\n",
      " [0.347  0.653 ]\n",
      " [0.913  0.087 ]\n",
      " [0.6175 0.3825]\n",
      " [0.943  0.057 ]\n",
      " [0.3911 0.6089]\n",
      " [0.9217 0.0783]\n",
      " [0.0022 0.9978]\n",
      " [0.     1.    ]\n",
      " [0.1397 0.8603]\n",
      " [0.6042 0.3958]\n",
      " [0.6629 0.3371]\n",
      " [0.0017 0.9983]\n",
      " [0.8398 0.1602]\n",
      " [0.9509 0.0491]\n",
      " [0.8906 0.1094]\n",
      " [0.1654 0.8346]\n",
      " [0.9598 0.0402]\n",
      " [0.0001 0.9999]\n",
      " [0.012  0.988 ]\n",
      " [0.8422 0.1578]\n",
      " [0.0354 0.9646]\n",
      " [0.9703 0.0297]\n",
      " [0.9843 0.0157]\n",
      " [0.9984 0.0016]\n",
      " [0.9581 0.0419]\n",
      " [0.     1.    ]\n",
      " [0.9715 0.0285]\n",
      " [0.8969 0.1031]\n",
      " [0.9988 0.0012]\n",
      " [0.5758 0.4242]\n",
      " [0.996  0.004 ]\n",
      " [0.9937 0.0063]\n",
      " [0.6215 0.3785]\n",
      " [0.7019 0.2981]\n",
      " [0.293  0.707 ]\n",
      " [0.9866 0.0134]\n",
      " [0.8197 0.1803]\n",
      " [0.0007 0.9993]\n",
      " [0.0471 0.9529]\n",
      " [0.0168 0.9832]\n",
      " [0.9378 0.0622]\n",
      " [0.31   0.69  ]\n",
      " [0.0028 0.9972]\n",
      " [0.9964 0.0036]\n",
      " [0.9866 0.0134]\n",
      " [0.996  0.004 ]\n",
      " [0.2237 0.7763]\n",
      " [0.9678 0.0322]\n",
      " [0.388  0.612 ]\n",
      " [0.9144 0.0856]\n",
      " [0.8337 0.1663]\n",
      " [0.921  0.079 ]\n",
      " [0.9771 0.0229]\n",
      " [0.     1.    ]\n",
      " [0.9536 0.0464]\n",
      " [0.9663 0.0337]\n",
      " [0.8657 0.1343]\n",
      " [0.8572 0.1428]\n",
      " [0.9861 0.0139]\n",
      " [0.9954 0.0046]\n",
      " [0.9421 0.0579]\n",
      " [0.9995 0.0005]\n",
      " [0.9471 0.0529]\n",
      " [0.9013 0.0987]\n",
      " [0.978  0.022 ]\n",
      " [0.9997 0.0003]\n",
      " [0.9778 0.0222]\n",
      " [0.991  0.009 ]\n",
      " [0.9989 0.0011]\n",
      " [0.9746 0.0254]\n",
      " [0.9967 0.0033]\n",
      " [0.9095 0.0905]\n",
      " [0.9671 0.0329]\n",
      " [0.0346 0.9654]\n",
      " [0.5088 0.4912]\n",
      " [0.0171 0.9829]\n",
      " [0.9828 0.0172]\n",
      " [0.1791 0.8209]\n",
      " [0.9833 0.0167]\n",
      " [0.8929 0.1071]\n",
      " [0.3415 0.6585]\n",
      " [0.987  0.013 ]\n",
      " [0.9474 0.0526]\n",
      " [0.9462 0.0538]\n",
      " [0.0225 0.9775]\n",
      " [0.9402 0.0598]\n",
      " [0.7644 0.2356]\n",
      " [0.5378 0.4622]\n",
      " [0.9682 0.0318]\n",
      " [0.7973 0.2027]\n",
      " [0.1103 0.8897]\n",
      " [0.9722 0.0278]\n",
      " [0.996  0.004 ]\n",
      " [0.812  0.188 ]\n",
      " [0.1747 0.8253]\n",
      " [0.9959 0.0041]\n",
      " [0.7756 0.2244]\n",
      " [0.977  0.023 ]\n",
      " [0.1188 0.8812]\n",
      " [0.0144 0.9856]\n",
      " [0.0025 0.9975]\n",
      " [0.8996 0.1004]\n",
      " [0.     1.    ]\n",
      " [0.9906 0.0094]\n",
      " [0.0008 0.9992]\n",
      " [0.9848 0.0152]\n",
      " [0.5019 0.4981]\n",
      " [0.0412 0.9588]\n",
      " [0.913  0.087 ]\n",
      " [0.     1.    ]\n",
      " [0.9621 0.0379]\n",
      " [0.9428 0.0572]\n",
      " [0.979  0.021 ]\n",
      " [0.9993 0.0007]\n",
      " [0.8367 0.1633]\n",
      " [0.9992 0.0008]\n",
      " [0.0737 0.9263]\n",
      " [0.0004 0.9996]\n",
      " [0.2851 0.7149]\n",
      " [0.7235 0.2765]\n",
      " [0.7461 0.2539]\n",
      " [0.6491 0.3509]\n",
      " [0.6879 0.3121]\n",
      " [0.1336 0.8664]\n",
      " [0.9898 0.0102]\n",
      " [0.9858 0.0142]\n",
      " [0.9999 0.0001]\n",
      " [0.1426 0.8574]\n",
      " [0.0049 0.9951]\n",
      " [0.0049 0.9951]\n",
      " [0.9776 0.0224]]\n"
     ]
    }
   ],
   "source": [
    "#確率値の取得\n",
    "\n",
    "y_proba = algorithm.predict_proba(x_test)\n",
    "print(y_proba)\n",
    "\n",
    "#printした結果の1列目は予測結果0に対する確率値、2列目は予測結果1に対する確率値"
   ]
  },
  {
   "cell_type": "code",
   "execution_count": 22,
   "id": "exterior-prison",
   "metadata": {},
   "outputs": [
    {
     "name": "stdout",
     "output_type": "stream",
     "text": [
      "[0 1 1 0 1 0 0 0 0 0]\n",
      "[0 1 0 0 1 0 0 0 0 0]\n",
      "[0.2111 0.9188 0.1617 0.0609 0.631  0.0549 0.0601 0.0506 0.0383 0.0164]\n"
     ]
    }
   ],
   "source": [
    "#上の結果のpsitive(1)の確率値の取得\n",
    "y_proba1 = y_proba[:,1]\n",
    "\n",
    "#結果\n",
    "print(y_test[10:20])\n",
    "print(y_pred[10:20])\n",
    "print(y_prpba1[10:20])"
   ]
  },
  {
   "cell_type": "code",
   "execution_count": 23,
   "id": "placed-aviation",
   "metadata": {},
   "outputs": [
    {
     "name": "stdout",
     "output_type": "stream",
     "text": [
      "[0 1 0 0 1 0 0 0 0 0]\n",
      "[0 1 0 0 0 0 0 0 0 0]\n"
     ]
    }
   ],
   "source": [
    "#閾値を変化させる\n",
    "\n",
    "thres = 0.5\n",
    "print((y_proba1[10:20] > thres).astype(int))\n",
    "\n",
    "thres = 0.7\n",
    "print((y_proba1[10:20] > thres).astype(int))\n",
    "\n",
    "#閾値を変化させたことで出力結果の5番目が変化"
   ]
  },
  {
   "cell_type": "markdown",
   "id": "tough-reservation",
   "metadata": {},
   "source": [
    "以下に閾値を変化させたとき用の予測関数を定義ずる"
   ]
  },
  {
   "cell_type": "code",
   "execution_count": 24,
   "id": "expressed-nicaragua",
   "metadata": {},
   "outputs": [],
   "source": [
    "#閾値を変更した場合の予測関数\n",
    "\n",
    "#引数の説明：左から、アルゴリズム(モデル)の変数、正解データの変数、閾値\n",
    "def pred(algorithm, x, thres):\n",
    "    \n",
    "    #確率値を一度行列で取得する\n",
    "    y_proba = algorithm.predict_proba(x)\n",
    "    \n",
    "    #上で取得した行列から、予測結果1の確率値だけ抜き出す\n",
    "    y_proba1 = y_proba[:,1]\n",
    "    \n",
    "    #予測結果1の確率値 > 閾値\n",
    "    y_pred = (y_prpba1 > thres).astype(int)\n",
    "    return y_pred\n"
   ]
  },
  {
   "cell_type": "code",
   "execution_count": 18,
   "id": "aquatic-formula",
   "metadata": {},
   "outputs": [
    {
     "name": "stdout",
     "output_type": "stream",
     "text": [
      "[0 1 0 0 1 0 0 0 0 0]\n",
      "[0 1 0 0 0 0 0 0 0 0]\n"
     ]
    }
   ],
   "source": [
    "#上で作成した関数を使ってみる\n",
    "\n",
    "#閾値0.5の結果\n",
    "pred_05 = pred(algorithm, x_test, 0.5)\n",
    "\n",
    "#閾値0.7の結果\n",
    "pred_07 = pred(algorithm, x_test, 0.7)\n",
    "\n",
    "print(pred_05[10:20])\n",
    "print(pred_07[10:20])"
   ]
  },
  {
   "cell_type": "markdown",
   "id": "compound-indie",
   "metadata": {},
   "source": [
    "PR曲線とROC曲線について"
   ]
  },
  {
   "cell_type": "code",
   "execution_count": 28,
   "id": "forced-finish",
   "metadata": {},
   "outputs": [
    {
     "data": {
      "text/html": [
       "<div>\n",
       "<style scoped>\n",
       "    .dataframe tbody tr th:only-of-type {\n",
       "        vertical-align: middle;\n",
       "    }\n",
       "\n",
       "    .dataframe tbody tr th {\n",
       "        vertical-align: top;\n",
       "    }\n",
       "\n",
       "    .dataframe thead th {\n",
       "        text-align: right;\n",
       "    }\n",
       "</style>\n",
       "<table border=\"1\" class=\"dataframe\">\n",
       "  <thead>\n",
       "    <tr style=\"text-align: right;\">\n",
       "      <th></th>\n",
       "      <th>閾値</th>\n",
       "      <th>適合率</th>\n",
       "      <th>再現率</th>\n",
       "    </tr>\n",
       "  </thead>\n",
       "  <tbody>\n",
       "    <tr>\n",
       "      <th>52</th>\n",
       "      <td>0.1473</td>\n",
       "      <td>0.7901</td>\n",
       "      <td>0.9412</td>\n",
       "    </tr>\n",
       "    <tr>\n",
       "      <th>62</th>\n",
       "      <td>0.2027</td>\n",
       "      <td>0.8310</td>\n",
       "      <td>0.8676</td>\n",
       "    </tr>\n",
       "    <tr>\n",
       "      <th>72</th>\n",
       "      <td>0.3371</td>\n",
       "      <td>0.9344</td>\n",
       "      <td>0.8382</td>\n",
       "    </tr>\n",
       "    <tr>\n",
       "      <th>82</th>\n",
       "      <td>0.5347</td>\n",
       "      <td>0.9608</td>\n",
       "      <td>0.7206</td>\n",
       "    </tr>\n",
       "    <tr>\n",
       "      <th>92</th>\n",
       "      <td>0.7763</td>\n",
       "      <td>0.9756</td>\n",
       "      <td>0.5882</td>\n",
       "    </tr>\n",
       "    <tr>\n",
       "      <th>102</th>\n",
       "      <td>0.9025</td>\n",
       "      <td>1.0000</td>\n",
       "      <td>0.4559</td>\n",
       "    </tr>\n",
       "    <tr>\n",
       "      <th>112</th>\n",
       "      <td>0.9829</td>\n",
       "      <td>1.0000</td>\n",
       "      <td>0.3088</td>\n",
       "    </tr>\n",
       "  </tbody>\n",
       "</table>\n",
       "</div>"
      ],
      "text/plain": [
       "        閾値    適合率    再現率\n",
       "52  0.1473 0.7901 0.9412\n",
       "62  0.2027 0.8310 0.8676\n",
       "72  0.3371 0.9344 0.8382\n",
       "82  0.5347 0.9608 0.7206\n",
       "92  0.7763 0.9756 0.5882\n",
       "102 0.9025 1.0000 0.4559\n",
       "112 0.9829 1.0000 0.3088"
      ]
     },
     "metadata": {},
     "output_type": "display_data"
    }
   ],
   "source": [
    "#閾値を変化させた時の適合率と再現率の値を取得する\n",
    "#取得したのちPR曲線を書く\n",
    "\n",
    "from sklearn.metrics import precision_recall_curve\n",
    "\n",
    "#適合率、再現率、閾値の取得\n",
    "precision, recall, thresholds = precision_recall_curve(\n",
    "    y_test, y_proba1)\n",
    "\n",
    "#結果をデータフレームにする\n",
    "#.Tは置換行列かしている処理\n",
    "df_pr = pd.DataFrame([thresholds, precision, recall]).T\n",
    "df_pr.columns = ['閾値','適合率','再現率']\n",
    "\n",
    "display(df_pr[52:122:10])\n"
   ]
  },
  {
   "cell_type": "code",
   "execution_count": 29,
   "id": "damaged-uncle",
   "metadata": {},
   "outputs": [
    {
     "data": {
      "image/png": "[encoded data removed]",
      "text/plain": [
       "<Figure size 432x432 with 1 Axes>"
      ]
     },
     "metadata": {
      "needs_background": "light"
     },
     "output_type": "display_data"
    }
   ],
   "source": [
    "#上で準備したデータをもとにPR曲線を描く\n",
    "\n",
    "#描画サイズ\n",
    "plt.figure(figsize=(6,6))\n",
    "\n",
    "#グラフ領域の塗りつぶし\n",
    "plt.fill_between(recall, precision, 0)\n",
    "\n",
    "#x,yの範囲指定\n",
    "plt.xlim([0.0, 1.0])\n",
    "plt.ylim([0.0, 1.0])\n",
    "\n",
    "#ラベルとタイトル\n",
    "plt.xlabel('再現率')\n",
    "plt.ylabel('適合率')\n",
    "plt.title('PR曲線')\n",
    "plt.show()\n"
   ]
  },
  {
   "cell_type": "code",
   "execution_count": 30,
   "id": "irish-cornwall",
   "metadata": {},
   "outputs": [
    {
     "name": "stdout",
     "output_type": "stream",
     "text": [
      "PR曲線下面積: 0.9459\n"
     ]
    }
   ],
   "source": [
    "#上で作成したPR曲線の面積の計算\n",
    "from sklearn.metrics import auc\n",
    "pr_auc = auc(recall, precision)\n",
    "print(f'PR曲線下面積: {pr_auc:.4f}')"
   ]
  },
  {
   "cell_type": "markdown",
   "id": "brief-foster",
   "metadata": {},
   "source": [
    "ROC曲線について"
   ]
  },
  {
   "cell_type": "code",
   "execution_count": 31,
   "id": "specific-netscape",
   "metadata": {},
   "outputs": [
    {
     "data": {
      "text/html": [
       "<div>\n",
       "<style scoped>\n",
       "    .dataframe tbody tr th:only-of-type {\n",
       "        vertical-align: middle;\n",
       "    }\n",
       "\n",
       "    .dataframe tbody tr th {\n",
       "        vertical-align: top;\n",
       "    }\n",
       "\n",
       "    .dataframe thead th {\n",
       "        text-align: right;\n",
       "    }\n",
       "</style>\n",
       "<table border=\"1\" class=\"dataframe\">\n",
       "  <thead>\n",
       "    <tr style=\"text-align: right;\">\n",
       "      <th></th>\n",
       "      <th>閾値</th>\n",
       "      <th>偽陽性率</th>\n",
       "      <th>敏感度</th>\n",
       "    </tr>\n",
       "  </thead>\n",
       "  <tbody>\n",
       "    <tr>\n",
       "      <th>21</th>\n",
       "      <td>0.9829</td>\n",
       "      <td>0.0000</td>\n",
       "      <td>0.3088</td>\n",
       "    </tr>\n",
       "    <tr>\n",
       "      <th>31</th>\n",
       "      <td>0.9025</td>\n",
       "      <td>0.0000</td>\n",
       "      <td>0.4559</td>\n",
       "    </tr>\n",
       "    <tr>\n",
       "      <th>41</th>\n",
       "      <td>0.7763</td>\n",
       "      <td>0.0097</td>\n",
       "      <td>0.5882</td>\n",
       "    </tr>\n",
       "    <tr>\n",
       "      <th>51</th>\n",
       "      <td>0.5347</td>\n",
       "      <td>0.0194</td>\n",
       "      <td>0.7206</td>\n",
       "    </tr>\n",
       "    <tr>\n",
       "      <th>61</th>\n",
       "      <td>0.3371</td>\n",
       "      <td>0.0388</td>\n",
       "      <td>0.8382</td>\n",
       "    </tr>\n",
       "    <tr>\n",
       "      <th>71</th>\n",
       "      <td>0.2027</td>\n",
       "      <td>0.1165</td>\n",
       "      <td>0.8676</td>\n",
       "    </tr>\n",
       "    <tr>\n",
       "      <th>81</th>\n",
       "      <td>0.1473</td>\n",
       "      <td>0.1650</td>\n",
       "      <td>0.9412</td>\n",
       "    </tr>\n",
       "  </tbody>\n",
       "</table>\n",
       "</div>"
      ],
      "text/plain": [
       "       閾値   偽陽性率    敏感度\n",
       "21 0.9829 0.0000 0.3088\n",
       "31 0.9025 0.0000 0.4559\n",
       "41 0.7763 0.0097 0.5882\n",
       "51 0.5347 0.0194 0.7206\n",
       "61 0.3371 0.0388 0.8382\n",
       "71 0.2027 0.1165 0.8676\n",
       "81 0.1473 0.1650 0.9412"
      ]
     },
     "metadata": {},
     "output_type": "display_data"
    }
   ],
   "source": [
    "#ROC曲線用配列の生成\n",
    "\n",
    "from sklearn.metrics import roc_curve\n",
    "\n",
    "#偽陽性率、敏感度、閾値の取得\n",
    "#drop_intermediate=Falseは閾値の変化と結果の関係をちゃんと見たいとき用のパラメータ\n",
    "fpr, tpr, thresholds = roc_curve(y_test, y_proba1, drop_intermediate=False)\n",
    "\n",
    "#結果をデータフレームに\n",
    "df_roc = pd.DataFrame([thresholds, fpr, tpr]).T\n",
    "df_roc.columns = ['閾値', '偽陽性率', '敏感度']\n",
    "\n",
    "#閾値0.5の周辺データの表示\n",
    "display(df_roc[21:91:10])\n",
    "\n",
    "#結果を見ると閾値を減らすと偽陽性率、敏感度ともに上昇している"
   ]
  },
  {
   "cell_type": "code",
   "execution_count": 32,
   "id": "indoor-leone",
   "metadata": {},
   "outputs": [
    {
     "data": {
      "image/png": "[encoded data removed]",
      "text/plain": [
       "<Figure size 432x432 with 1 Axes>"
      ]
     },
     "metadata": {
      "needs_background": "light"
     },
     "output_type": "display_data"
    }
   ],
   "source": [
    "#上で作成したデータをもとにROC曲線を描画していく\n",
    "\n",
    "#描画サイズ\n",
    "plt.figure(figsize=(6,6))\n",
    "\n",
    "#点線の表示\n",
    "plt.plot([0,1], [0,1], 'k--')\n",
    "\n",
    "#グラフの塗りつぶし\n",
    "plt.fill_between(fpr, tpr, 0)\n",
    "\n",
    "#x,yの範囲指定\n",
    "plt.xlim([0.0, 1.0])\n",
    "plt.ylim([0.0, 1.0])\n",
    "\n",
    "#ラベルタイトルの表示\n",
    "plt.xlabel('偽陽性率')\n",
    "plt.ylabel('敏感度')\n",
    "plt.title('ROC曲線')\n",
    "plt.show()\n",
    "\n",
    "#予測結果が全然あてにならないときは点線と同じようなはんいになるらしい\n"
   ]
  },
  {
   "cell_type": "code",
   "execution_count": 33,
   "id": "fallen-terrain",
   "metadata": {},
   "outputs": [
    {
     "name": "stdout",
     "output_type": "stream",
     "text": [
      "rOC曲線下面積:0.9522\n"
     ]
    }
   ],
   "source": [
    "#ROC曲線下面積の計算\n",
    "roc_auc = auc(fpr, tpr)\n",
    "print(f'rOC曲線下面積:{roc_auc:.4f}')"
   ]
  },
  {
   "cell_type": "markdown",
   "id": "enclosed-reduction",
   "metadata": {},
   "source": [
    "入力項目の重要度について"
   ]
  },
  {
   "cell_type": "code",
   "execution_count": 34,
   "id": "terminal-custody",
   "metadata": {},
   "outputs": [
    {
     "data": {
      "text/plain": [
       "RandomForestClassifier(random_state=123)"
      ]
     },
     "execution_count": 34,
     "metadata": {},
     "output_type": "execute_result"
    }
   ],
   "source": [
    "#重要度を調査するために例としてランダムフォレストのモデルを作成する\n",
    "#訓練データ正解データへの分割は省略してすべてを学習データとしている\n",
    "\n",
    "#データの読み込み\n",
    "import seaborn as sns\n",
    "df_iris = sns.load_dataset('iris')\n",
    "columns_i =  ['がく片長', 'がく片幅', '花弁長', '花弁幅', '種別']\n",
    "df_iris.columns = columns_i\n",
    "\n",
    "#入力データ\n",
    "x = df_iris[['がく片長', 'がく片幅', '花弁長', '花弁幅']]\n",
    "\n",
    "#正解データ\n",
    "y = df_iris['種別']\n",
    "\n",
    "#アルゴリズムの宣言\n",
    "from sklearn.ensemble import RandomForestClassifier\n",
    "algorithm = RandomForestClassifier(random_state=random_seed)\n",
    "\n",
    "#学習\n",
    "algorithm.fit(x,y)\n"
   ]
  },
  {
   "cell_type": "code",
   "execution_count": 35,
   "id": "controlled-courage",
   "metadata": {},
   "outputs": [
    {
     "name": "stdout",
     "output_type": "stream",
     "text": [
      "花弁長    0.4611\n",
      "花弁幅    0.4257\n",
      "がく片長   0.0874\n",
      "がく片幅   0.0257\n",
      "dtype: float64\n"
     ]
    }
   ],
   "source": [
    "#上でデータの準備とモデルへの学習が完了したので\n",
    "#各項目の重要度を調べる\n",
    "#重要度はfeature_importances_で取得することができる\n",
    "\n",
    "importances = algorithm.feature_importances_\n",
    "\n",
    "#項目名をキーにシリーズを生成\n",
    "w = pd.Series(importances, index=x.columns)\n",
    "\n",
    "#データを降順ソート\n",
    "u = w.sort_values(ascending=False)\n",
    "\n",
    "#結果\n",
    "print(u)\n"
   ]
  },
  {
   "cell_type": "code",
   "execution_count": 36,
   "id": "continuing-slave",
   "metadata": {},
   "outputs": [
    {
     "data": {
      "image/png": "[encoded data removed]",
      "text/plain": [
       "<Figure size 432x288 with 1 Axes>"
      ]
     },
     "metadata": {
      "needs_background": "light"
     },
     "output_type": "display_data"
    }
   ],
   "source": [
    "#上で確認した重要度をグラフに落とし込む\n",
    "    \n",
    "#グラフの表示\n",
    "plt.bar(range(len(u)), u, color='b', align='center')\n",
    "\n",
    "#項目名を表示\n",
    "plt.xticks(range(len(u)), u.index, rotation=90)\n",
    "\n",
    "#グラフタイトル\n",
    "plt.title('入力変数の重要度')\n",
    "\n",
    "plt.show()\n"
   ]
  },
  {
   "cell_type": "markdown",
   "id": "retained-allocation",
   "metadata": {},
   "source": [
    "回帰モデルの評価方法について"
   ]
  },
  {
   "cell_type": "code",
   "execution_count": 38,
   "id": "exotic-saskatchewan",
   "metadata": {},
   "outputs": [
    {
     "data": {
      "text/html": [
       "<div>\n",
       "<style scoped>\n",
       "    .dataframe tbody tr th:only-of-type {\n",
       "        vertical-align: middle;\n",
       "    }\n",
       "\n",
       "    .dataframe tbody tr th {\n",
       "        vertical-align: top;\n",
       "    }\n",
       "\n",
       "    .dataframe thead th {\n",
       "        text-align: right;\n",
       "    }\n",
       "</style>\n",
       "<table border=\"1\" class=\"dataframe\">\n",
       "  <thead>\n",
       "    <tr style=\"text-align: right;\">\n",
       "      <th></th>\n",
       "      <th>CRIM</th>\n",
       "      <th>ZN</th>\n",
       "      <th>INDUS</th>\n",
       "      <th>CHAS</th>\n",
       "      <th>NOX</th>\n",
       "      <th>RM</th>\n",
       "      <th>AGE</th>\n",
       "      <th>DIS</th>\n",
       "      <th>RAD</th>\n",
       "      <th>TAX</th>\n",
       "      <th>PTRATIO</th>\n",
       "      <th>B</th>\n",
       "      <th>LSTAT</th>\n",
       "    </tr>\n",
       "  </thead>\n",
       "  <tbody>\n",
       "    <tr>\n",
       "      <th>0</th>\n",
       "      <td>0.0063</td>\n",
       "      <td>18.0000</td>\n",
       "      <td>2.3100</td>\n",
       "      <td>0.0000</td>\n",
       "      <td>0.5380</td>\n",
       "      <td>6.5750</td>\n",
       "      <td>65.2000</td>\n",
       "      <td>4.0900</td>\n",
       "      <td>1.0000</td>\n",
       "      <td>296.0000</td>\n",
       "      <td>15.3000</td>\n",
       "      <td>396.9000</td>\n",
       "      <td>4.9800</td>\n",
       "    </tr>\n",
       "    <tr>\n",
       "      <th>1</th>\n",
       "      <td>0.0273</td>\n",
       "      <td>0.0000</td>\n",
       "      <td>7.0700</td>\n",
       "      <td>0.0000</td>\n",
       "      <td>0.4690</td>\n",
       "      <td>6.4210</td>\n",
       "      <td>78.9000</td>\n",
       "      <td>4.9671</td>\n",
       "      <td>2.0000</td>\n",
       "      <td>242.0000</td>\n",
       "      <td>17.8000</td>\n",
       "      <td>396.9000</td>\n",
       "      <td>9.1400</td>\n",
       "    </tr>\n",
       "    <tr>\n",
       "      <th>2</th>\n",
       "      <td>0.0273</td>\n",
       "      <td>0.0000</td>\n",
       "      <td>7.0700</td>\n",
       "      <td>0.0000</td>\n",
       "      <td>0.4690</td>\n",
       "      <td>7.1850</td>\n",
       "      <td>61.1000</td>\n",
       "      <td>4.9671</td>\n",
       "      <td>2.0000</td>\n",
       "      <td>242.0000</td>\n",
       "      <td>17.8000</td>\n",
       "      <td>392.8300</td>\n",
       "      <td>4.0300</td>\n",
       "    </tr>\n",
       "    <tr>\n",
       "      <th>3</th>\n",
       "      <td>0.0324</td>\n",
       "      <td>0.0000</td>\n",
       "      <td>2.1800</td>\n",
       "      <td>0.0000</td>\n",
       "      <td>0.4580</td>\n",
       "      <td>6.9980</td>\n",
       "      <td>45.8000</td>\n",
       "      <td>6.0622</td>\n",
       "      <td>3.0000</td>\n",
       "      <td>222.0000</td>\n",
       "      <td>18.7000</td>\n",
       "      <td>394.6300</td>\n",
       "      <td>2.9400</td>\n",
       "    </tr>\n",
       "    <tr>\n",
       "      <th>4</th>\n",
       "      <td>0.0691</td>\n",
       "      <td>0.0000</td>\n",
       "      <td>2.1800</td>\n",
       "      <td>0.0000</td>\n",
       "      <td>0.4580</td>\n",
       "      <td>7.1470</td>\n",
       "      <td>54.2000</td>\n",
       "      <td>6.0622</td>\n",
       "      <td>3.0000</td>\n",
       "      <td>222.0000</td>\n",
       "      <td>18.7000</td>\n",
       "      <td>396.9000</td>\n",
       "      <td>5.3300</td>\n",
       "    </tr>\n",
       "  </tbody>\n",
       "</table>\n",
       "</div>"
      ],
      "text/plain": [
       "    CRIM      ZN  INDUS   CHAS    NOX     RM     AGE    DIS    RAD      TAX  \\\n",
       "0 0.0063 18.0000 2.3100 0.0000 0.5380 6.5750 65.2000 4.0900 1.0000 296.0000   \n",
       "1 0.0273  0.0000 7.0700 0.0000 0.4690 6.4210 78.9000 4.9671 2.0000 242.0000   \n",
       "2 0.0273  0.0000 7.0700 0.0000 0.4690 7.1850 61.1000 4.9671 2.0000 242.0000   \n",
       "3 0.0324  0.0000 2.1800 0.0000 0.4580 6.9980 45.8000 6.0622 3.0000 222.0000   \n",
       "4 0.0691  0.0000 2.1800 0.0000 0.4580 7.1470 54.2000 6.0622 3.0000 222.0000   \n",
       "\n",
       "   PTRATIO        B  LSTAT  \n",
       "0  15.3000 396.9000 4.9800  \n",
       "1  17.8000 396.9000 9.1400  \n",
       "2  17.8000 392.8300 4.0300  \n",
       "3  18.7000 394.6300 2.9400  \n",
       "4  18.7000 396.9000 5.3300  "
      ]
     },
     "metadata": {},
     "output_type": "display_data"
    },
    {
     "data": {
      "text/html": [
       "<div>\n",
       "<style scoped>\n",
       "    .dataframe tbody tr th:only-of-type {\n",
       "        vertical-align: middle;\n",
       "    }\n",
       "\n",
       "    .dataframe tbody tr th {\n",
       "        vertical-align: top;\n",
       "    }\n",
       "\n",
       "    .dataframe thead th {\n",
       "        text-align: right;\n",
       "    }\n",
       "</style>\n",
       "<table border=\"1\" class=\"dataframe\">\n",
       "  <thead>\n",
       "    <tr style=\"text-align: right;\">\n",
       "      <th></th>\n",
       "      <th>RM</th>\n",
       "    </tr>\n",
       "  </thead>\n",
       "  <tbody>\n",
       "    <tr>\n",
       "      <th>0</th>\n",
       "      <td>6.5750</td>\n",
       "    </tr>\n",
       "    <tr>\n",
       "      <th>1</th>\n",
       "      <td>6.4210</td>\n",
       "    </tr>\n",
       "    <tr>\n",
       "      <th>2</th>\n",
       "      <td>7.1850</td>\n",
       "    </tr>\n",
       "    <tr>\n",
       "      <th>3</th>\n",
       "      <td>6.9980</td>\n",
       "    </tr>\n",
       "    <tr>\n",
       "      <th>4</th>\n",
       "      <td>7.1470</td>\n",
       "    </tr>\n",
       "  </tbody>\n",
       "</table>\n",
       "</div>"
      ],
      "text/plain": [
       "      RM\n",
       "0 6.5750\n",
       "1 6.4210\n",
       "2 7.1850\n",
       "3 6.9980\n",
       "4 7.1470"
      ]
     },
     "metadata": {},
     "output_type": "display_data"
    },
    {
     "name": "stdout",
     "output_type": "stream",
     "text": [
      "[24.  21.6 34.7 33.4 36.2]\n"
     ]
    }
   ],
   "source": [
    "#データ読み込みからデータの分割まで\n",
    "\n",
    "from sklearn.datasets import load_boston\n",
    "boston = load_boston()\n",
    "\n",
    "#入力データをデータフレームに落とし込む\n",
    "df = pd.DataFrame(boston.data, columns=boston.feature_names)\n",
    "\n",
    "#正解データ\n",
    "y = boston.target\n",
    "\n",
    "#1項目だけの入力データを作成する\n",
    "df1 = df[['RM']]\n",
    "\n",
    "#結果\n",
    "display(df.head())\n",
    "display(df1.head())\n",
    "print(y[:5])\n"
   ]
  },
  {
   "cell_type": "code",
   "execution_count": 39,
   "id": "affiliated-simpson",
   "metadata": {},
   "outputs": [],
   "source": [
    "#アルゴリズムの選択から予測まで\n",
    "\n",
    "#モデルを2つ作る。特定の項目を用いて予測するものと、\n",
    "#全入力項目を用いて予測するもの\n",
    "\n",
    "#XGBoostのアルゴリズムを使用する\n",
    "from xgboost import XGBRegressor\n",
    "algorithm1 = XGBRegressor(objective='reg:squarederror', random_state=random_seed)\n",
    "\n",
    "#学習.fit関数\n",
    "algorithm1.fit(df1, y)\n",
    "\n",
    "#予測\n",
    "y_pred1 = algorithm1.predict(df1)\n",
    "\n",
    "\n",
    "\n",
    "#XGBoostのアルゴリズムを使用する\n",
    "from xgboost import XGBRegressor\n",
    "algorithm2 = XGBRegressor(objective='reg:squarederror', random_state=random_seed)\n",
    "\n",
    "#学習.fit関数\n",
    "algorithm2.fit(df, y)\n",
    "\n",
    "#予測\n",
    "y_pred2 = algorithm2.predict(df)\n"
   ]
  },
  {
   "cell_type": "code",
   "execution_count": 40,
   "id": "impressed-library",
   "metadata": {},
   "outputs": [
    {
     "name": "stdout",
     "output_type": "stream",
     "text": [
      "y[:5] [24.  21.6 34.7 33.4 36.2]\n",
      "y_pred1[:5] [24.2265 20.5349 34.8044 32.9725 35.9762]\n",
      "y_pred2[:5] [24.0193 21.5997 34.7074 33.4074 36.1893]\n"
     ]
    }
   ],
   "source": [
    "#上の学習結果確認\n",
    "print(f'y[:5] {y[:5]}')\n",
    "print(f'y_pred1[:5] {y_pred1[:5]}')\n",
    "print(f'y_pred2[:5] {y_pred2[:5]}')"
   ]
  },
  {
   "cell_type": "markdown",
   "id": "public-timothy",
   "metadata": {},
   "source": [
    "回帰の予測結果は分類と違い数値として現れるため  \n",
    "予測結果の精度を測る方法が単純ではない  \n",
    "確認方法として、予測結果と正解データをもとに散布図を作成するか  \n",
    "決定係数を算出するかの2通り  \n",
    "まずは散布図を書いてモデルの制度を確認する"
   ]
  },
  {
   "cell_type": "code",
   "execution_count": 44,
   "id": "recovered-seafood",
   "metadata": {},
   "outputs": [
    {
     "name": "stdout",
     "output_type": "stream",
     "text": [
      "[ 5. 50.]\n"
     ]
    }
   ],
   "source": [
    "#散布図を描画する準備\n",
    "#散布図に補助線を引くため、正解データの最大値と最小値を調べる\n",
    "\n",
    "y_range = np.array([y.min(), y.max()])\n",
    "\n",
    "print(y_range)"
   ]
  },
  {
   "cell_type": "code",
   "execution_count": 48,
   "id": "violent-length",
   "metadata": {},
   "outputs": [
    {
     "data": {
      "image/png": "[encoded data removed]",
      "text/plain": [
       "<Figure size 432x432 with 1 Axes>"
      ]
     },
     "metadata": {
      "needs_background": "light"
     },
     "output_type": "display_data"
    }
   ],
   "source": [
    "#1つの入力変数で出した予測結果のほうを散布図描画する\n",
    "\n",
    "#サイズ指定\n",
    "plt.figure(figsize=(6,6))\n",
    "\n",
    "#散布図の描画\n",
    "plt.scatter(y, y_pred1)\n",
    "\n",
    "#正解データ=予測結果の直線\n",
    "plt.plot(y_range, y_range, 'k--')\n",
    "\n",
    "#ラベルのタイトル\n",
    "plt.xlabel('正解データ')\n",
    "plt.ylabel('予測結果')\n",
    "plt.title('正解データと予測結果の散布図(1入力変数ver')\n",
    "\n",
    "plt.show()"
   ]
  },
  {
   "cell_type": "code",
   "execution_count": 49,
   "id": "ready-sport",
   "metadata": {},
   "outputs": [
    {
     "data": {
      "image/png": "[encoded data removed]",
      "text/plain": [
       "<Figure size 432x432 with 1 Axes>"
      ]
     },
     "metadata": {
      "needs_background": "light"
     },
     "output_type": "display_data"
    }
   ],
   "source": [
    "#1つの入力変数で出した予測結果のほうを散布図描画する\n",
    "\n",
    "#サイズ指定\n",
    "plt.figure(figsize=(6,6))\n",
    "\n",
    "#散布図の描画\n",
    "plt.scatter(y, y_pred2)\n",
    "\n",
    "#正解データ=予測結果の直線\n",
    "plt.plot(y_range, y_range, 'k--')\n",
    "\n",
    "#ラベルのタイトル\n",
    "plt.xlabel('正解データ')\n",
    "plt.ylabel('予測結果')\n",
    "plt.title('正解データと予測結果の散布図(全部入力変数ver')\n",
    "\n",
    "plt.show()"
   ]
  },
  {
   "cell_type": "markdown",
   "id": "occupied-internship",
   "metadata": {},
   "source": [
    "上の散布図で確認したことを決定係数でも確認する"
   ]
  },
  {
   "cell_type": "code",
   "execution_count": 51,
   "id": "historic-cambridge",
   "metadata": {},
   "outputs": [
    {
     "name": "stdout",
     "output_type": "stream",
     "text": [
      "R2 score(1入力変数): 0.9251\n"
     ]
    }
   ],
   "source": [
    "#R2scoreを用いて決定係数を算出する\n",
    "#入力項目が1こだけバージョン\n",
    "from sklearn.metrics import r2_score\n",
    "\n",
    "r2_score1 = r2_score(y, y_pred1)\n",
    "print(f'R2 score(1入力変数): {r2_score1:.4f}')"
   ]
  },
  {
   "cell_type": "code",
   "execution_count": 52,
   "id": "weird-weekend",
   "metadata": {},
   "outputs": [
    {
     "name": "stdout",
     "output_type": "stream",
     "text": [
      "R2 score(1入力変数): 1.0000\n"
     ]
    }
   ],
   "source": [
    "#入力項目が全部バージョン\n",
    "from sklearn.metrics import r2_score\n",
    "\n",
    "r2_score2 = r2_score(y, y_pred2)\n",
    "print(f'R2 score(1入力変数): {r2_score2:.4f}')"
   ]
  },
  {
   "cell_type": "code",
   "execution_count": null,
   "id": "vocal-lightning",
   "metadata": {},
   "outputs": [],
   "source": []
  },
  {
   "cell_type": "code",
   "execution_count": null,
   "id": "chicken-bryan",
   "metadata": {},
   "outputs": [],
   "source": []
  },
  {
   "cell_type": "code",
   "execution_count": null,
   "id": "personal-citizenship",
   "metadata": {},
   "outputs": [],
   "source": []
  }
 ],
 "metadata": {
  "kernelspec": {
   "display_name": "Python 3",
   "language": "python",
   "name": "python3"
  },
  "language_info": {
   "codemirror_mode": {
    "name": "ipython",
    "version": 3
   },
   "file_extension": ".py",
   "mimetype": "text/x-python",
   "name": "python",
   "nbconvert_exporter": "python",
   "pygments_lexer": "ipython3",
   "version": "3.8.5"
  }
 },
 "nbformat": 4,
 "nbformat_minor": 5
}
