{
 "cells": [
  {
   "cell_type": "markdown",
   "id": "8202d78e",
   "metadata": {},
   "source": [
    "pandasの基礎  \n",
    "データ分析用のライブラリでcsvファイルの読み込みとかデータの加工をすることができる  \n",
    "1次元データを扱うseries形と2次元データのdataframe型がある"
   ]
  },
  {
   "cell_type": "code",
   "execution_count": 19,
   "id": "79d24d69",
   "metadata": {},
   "outputs": [],
   "source": [
    "import pandas as pd\n",
    "\n",
    "from IPython.display import display"
   ]
  },
  {
   "cell_type": "markdown",
   "id": "b5f0dd95",
   "metadata": {},
   "source": [
    "seriesとはインデックスが付けられた1次元のリストのこと"
   ]
  },
  {
   "cell_type": "code",
   "execution_count": 2,
   "id": "b2738bd3",
   "metadata": {},
   "outputs": [],
   "source": [
    "list_1 = [7, 8, 9]\n",
    "\n",
    "series_1 = pd.Series(list_1)"
   ]
  },
  {
   "cell_type": "code",
   "execution_count": 4,
   "id": "188d8f63",
   "metadata": {},
   "outputs": [
    {
     "data": {
      "text/plain": [
       "0    7\n",
       "1    8\n",
       "2    9\n",
       "dtype: int64"
      ]
     },
     "execution_count": 4,
     "metadata": {},
     "output_type": "execute_result"
    }
   ],
   "source": [
    "#seriesの出力\n",
    "series_1"
   ]
  },
  {
   "cell_type": "code",
   "execution_count": 5,
   "id": "52a013a7",
   "metadata": {},
   "outputs": [],
   "source": [
    "list_1 = [7, 8, 9]\n",
    "\n",
    "#データ型を指定したバージョン\n",
    "series_1 = pd.Series(list_1, dtype=float)"
   ]
  },
  {
   "cell_type": "code",
   "execution_count": 7,
   "id": "099cbdb1",
   "metadata": {},
   "outputs": [
    {
     "data": {
      "text/plain": [
       "0    7.0\n",
       "1    8.0\n",
       "2    9.0\n",
       "dtype: float64"
      ]
     },
     "execution_count": 7,
     "metadata": {},
     "output_type": "execute_result"
    }
   ],
   "source": [
    "#seriesの出力\n",
    "series_1"
   ]
  },
  {
   "cell_type": "code",
   "execution_count": 8,
   "id": "d7c8da05",
   "metadata": {},
   "outputs": [
    {
     "data": {
      "text/plain": [
       "0      矢口\n",
       "1     小田部\n",
       "2    ガンダム\n",
       "dtype: object"
      ]
     },
     "execution_count": 8,
     "metadata": {},
     "output_type": "execute_result"
    }
   ],
   "source": [
    "list_2 = ['矢口', '小田部', 'ガンダム']\n",
    "\n",
    "#データ型を指定したバージョン\n",
    "series_2 = pd.Series(list_2 )\n",
    "\n",
    "series_2\n",
    "\n",
    "#インデックスは同じだが、文字列を扱うときのデータ型をobject型としている"
   ]
  },
  {
   "cell_type": "code",
   "execution_count": 14,
   "id": "f4430853",
   "metadata": {},
   "outputs": [
    {
     "data": {
      "text/plain": [
       "矢口      7\n",
       "小田部     8\n",
       "ガンダム    9\n",
       "dtype: int64"
      ]
     },
     "metadata": {},
     "output_type": "display_data"
    }
   ],
   "source": [
    "#インデックスを文字列とした書き方\n",
    "val = [7, 8, 9]\n",
    "name = ['矢口', '小田部', 'ガンダム']\n",
    "n_series = pd.Series(val, index=name)\n",
    "\n",
    "print(n_series)"
   ]
  },
  {
   "cell_type": "code",
   "execution_count": null,
   "id": "9cd24515",
   "metadata": {},
   "outputs": [],
   "source": []
  },
  {
   "cell_type": "markdown",
   "id": "487bfee5",
   "metadata": {},
   "source": [
    "### ディクショナリ型について"
   ]
  },
  {
   "cell_type": "code",
   "execution_count": 15,
   "id": "b4308a0c",
   "metadata": {},
   "outputs": [],
   "source": [
    "#ディクショナリの書き方\n",
    "a_dict = {'矢口': 1, '小田部': 2, 'ガードマン': 3}"
   ]
  },
  {
   "cell_type": "code",
   "execution_count": 17,
   "id": "101a85e3",
   "metadata": {},
   "outputs": [
    {
     "data": {
      "text/plain": [
       "1"
      ]
     },
     "execution_count": 17,
     "metadata": {},
     "output_type": "execute_result"
    }
   ],
   "source": [
    "a_dict['矢口']"
   ]
  },
  {
   "cell_type": "code",
   "execution_count": 20,
   "id": "2c841fa2",
   "metadata": {},
   "outputs": [
    {
     "data": {
      "text/plain": [
       "矢口       1\n",
       "小田部      2\n",
       "ガードマン    3\n",
       "dtype: int64"
      ]
     },
     "metadata": {},
     "output_type": "display_data"
    }
   ],
   "source": [
    "d_series = pd.Series(a_dict)\n",
    "display(d_series)"
   ]
  },
  {
   "cell_type": "code",
   "execution_count": null,
   "id": "f0c38ee6",
   "metadata": {},
   "outputs": [],
   "source": []
  },
  {
   "cell_type": "markdown",
   "id": "5842eeb6",
   "metadata": {},
   "source": [
    "### 欠損値の操作について"
   ]
  },
  {
   "cell_type": "code",
   "execution_count": 21,
   "id": "eae92d45",
   "metadata": {},
   "outputs": [
    {
     "name": "stdout",
     "output_type": "stream",
     "text": [
      "矢口       1.0\n",
      "小田部      2.0\n",
      "ガードマン    3.0\n",
      "山村       NaN\n",
      "dtype: float64\n"
     ]
    }
   ],
   "source": [
    "a_dict2 = {'矢口': 1, '小田部': 2, 'ガードマン': 3}\n",
    "name = ['矢口', '小田部', 'ガードマン', '山村']\n",
    "\n",
    "d2_series = pd.Series(a_dict2, index=name)\n",
    "\n",
    "print(d2_series)\n",
    "\n",
    "#nanは欠損値"
   ]
  },
  {
   "cell_type": "markdown",
   "id": "360d5643",
   "metadata": {},
   "source": []
  },
  {
   "cell_type": "code",
   "execution_count": 41,
   "id": "98504aeb",
   "metadata": {},
   "outputs": [
    {
     "name": "stdout",
     "output_type": "stream",
     "text": [
      "yaguchi     1\n",
      "otabe       2\n",
      "yamamura    3\n",
      "dtype: int64\n"
     ]
    }
   ],
   "source": [
    "dict3 = {'yaguchi': 1, 'otabe': 2, 'yamamura': 3}\n",
    "\n",
    "d3 = pd.Series(dict3)\n",
    "\n",
    "print(d3)"
   ]
  },
  {
   "cell_type": "code",
   "execution_count": 42,
   "id": "814769e7",
   "metadata": {},
   "outputs": [
    {
     "data": {
      "text/plain": [
       "3"
      ]
     },
     "execution_count": 42,
     "metadata": {},
     "output_type": "execute_result"
    }
   ],
   "source": [
    "d3['yamamura']"
   ]
  },
  {
   "cell_type": "code",
   "execution_count": 25,
   "id": "df4b6f2a",
   "metadata": {},
   "outputs": [
    {
     "data": {
      "text/plain": [
       "3"
      ]
     },
     "execution_count": 25,
     "metadata": {},
     "output_type": "execute_result"
    }
   ],
   "source": [
    "d3[2]"
   ]
  },
  {
   "cell_type": "code",
   "execution_count": 26,
   "id": "6f277117",
   "metadata": {},
   "outputs": [
    {
     "data": {
      "text/plain": [
       "2"
      ]
     },
     "execution_count": 26,
     "metadata": {},
     "output_type": "execute_result"
    }
   ],
   "source": [
    "d3[1]"
   ]
  },
  {
   "cell_type": "markdown",
   "id": "1c3e58b9",
   "metadata": {},
   "source": [
    "スライスについて"
   ]
  },
  {
   "cell_type": "code",
   "execution_count": 43,
   "id": "7d32d365",
   "metadata": {},
   "outputs": [
    {
     "data": {
      "text/plain": [
       "yaguchi    1\n",
       "otabe      2\n",
       "dtype: int64"
      ]
     },
     "execution_count": 43,
     "metadata": {},
     "output_type": "execute_result"
    }
   ],
   "source": [
    "#矢口から小田部までの要素を取り出す\n",
    "d3['yaguchi':'otabe']"
   ]
  },
  {
   "cell_type": "code",
   "execution_count": 29,
   "id": "b5fc2259",
   "metadata": {},
   "outputs": [
    {
     "data": {
      "text/plain": [
       "矢口     1\n",
       "小田部    2\n",
       "dtype: int64"
      ]
     },
     "execution_count": 29,
     "metadata": {},
     "output_type": "execute_result"
    }
   ],
   "source": [
    "d3[0:2]"
   ]
  },
  {
   "cell_type": "code",
   "execution_count": null,
   "id": "edca3cf0",
   "metadata": {},
   "outputs": [],
   "source": []
  },
  {
   "cell_type": "markdown",
   "id": "c39806fa",
   "metadata": {},
   "source": [
    "seriesのインデックスと要素を別々に取得する方法"
   ]
  },
  {
   "cell_type": "code",
   "execution_count": 30,
   "id": "83260a8d",
   "metadata": {},
   "outputs": [
    {
     "data": {
      "text/plain": [
       "array([1, 2, 3], dtype=int64)"
      ]
     },
     "execution_count": 30,
     "metadata": {},
     "output_type": "execute_result"
    }
   ],
   "source": [
    "#ディクショナリの要素の取り出しから\n",
    "d3.values"
   ]
  },
  {
   "cell_type": "code",
   "execution_count": 31,
   "id": "51149083",
   "metadata": {},
   "outputs": [
    {
     "data": {
      "text/plain": [
       "<bound method IndexOpsMixin.value_counts of 矢口     1\n",
       "小田部    2\n",
       "山村     3\n",
       "dtype: int64>"
      ]
     },
     "execution_count": 31,
     "metadata": {},
     "output_type": "execute_result"
    }
   ],
   "source": [
    "d3.value_counts"
   ]
  },
  {
   "cell_type": "code",
   "execution_count": 56,
   "id": "8b4b0155",
   "metadata": {},
   "outputs": [
    {
     "data": {
      "text/plain": [
       "Index(['yaguchi', 'otabe', 'yamamura'], dtype='object')"
      ]
     },
     "execution_count": 56,
     "metadata": {},
     "output_type": "execute_result"
    }
   ],
   "source": [
    "#ディクショナリのインデックスの取り出しかた\n",
    "d3.index"
   ]
  },
  {
   "cell_type": "code",
   "execution_count": 60,
   "id": "31d1743d",
   "metadata": {},
   "outputs": [
    {
     "ename": "TypeError",
     "evalue": "'Index' object is not callable",
     "output_type": "error",
     "traceback": [
      "\u001b[1;31m---------------------------------------------------------------------------\u001b[0m",
      "\u001b[1;31mTypeError\u001b[0m                                 Traceback (most recent call last)",
      "\u001b[1;32m<ipython-input-60-b278bb0a084b>\u001b[0m in \u001b[0;36m<module>\u001b[1;34m\u001b[0m\n\u001b[1;32m----> 1\u001b[1;33m \u001b[0mlist\u001b[0m\u001b[1;33m(\u001b[0m\u001b[0md3\u001b[0m\u001b[1;33m.\u001b[0m\u001b[0mvalues\u001b[0m\u001b[1;33m)\u001b[0m\u001b[1;33m\u001b[0m\u001b[1;33m\u001b[0m\u001b[0m\n\u001b[0m",
      "\u001b[1;31mTypeError\u001b[0m: 'Index' object is not callable"
     ]
    }
   ],
   "source": [
    "list(d3.values)\n",
    "#型変換しないとダメっぽい"
   ]
  },
  {
   "cell_type": "code",
   "execution_count": 58,
   "id": "ba90cf6f",
   "metadata": {},
   "outputs": [
    {
     "data": {
      "text/plain": [
       "otabe       2\n",
       "yamamura    3\n",
       "dtype: int64"
      ]
     },
     "execution_count": 58,
     "metadata": {},
     "output_type": "execute_result"
    }
   ],
   "source": [
    "d3[d3 >1]"
   ]
  },
  {
   "cell_type": "code",
   "execution_count": 61,
   "id": "04a26795",
   "metadata": {},
   "outputs": [
    {
     "data": {
      "text/plain": [
       "yaguchi     False\n",
       "otabe        True\n",
       "yamamura     True\n",
       "dtype: bool"
      ]
     },
     "execution_count": 61,
     "metadata": {},
     "output_type": "execute_result"
    }
   ],
   "source": [
    "d3 >1"
   ]
  },
  {
   "cell_type": "code",
   "execution_count": null,
   "id": "371fbe33",
   "metadata": {},
   "outputs": [],
   "source": []
  },
  {
   "cell_type": "markdown",
   "id": "6fa3d404",
   "metadata": {},
   "source": [
    "#### 要素の変更について"
   ]
  },
  {
   "cell_type": "code",
   "execution_count": 63,
   "id": "ea74df3c",
   "metadata": {},
   "outputs": [
    {
     "name": "stdout",
     "output_type": "stream",
     "text": [
      "yaguchi      10\n",
      "otabe        50\n",
      "yamamura    300\n",
      "dtype: int64\n"
     ]
    }
   ],
   "source": [
    "dict4 = {'yaguchi': 10, 'otabe': 50, 'yamamura': 300}\n",
    "\n",
    "d4 = pd.Series(dict4)\n",
    "\n",
    "print(d4)"
   ]
  },
  {
   "cell_type": "code",
   "execution_count": 66,
   "id": "d3c02b02",
   "metadata": {},
   "outputs": [
    {
     "name": "stdout",
     "output_type": "stream",
     "text": [
      "yaguchi       1\n",
      "otabe        50\n",
      "yamamura    300\n",
      "dtype: int64\n"
     ]
    }
   ],
   "source": [
    "#要素の変更\n",
    "d4['yaguchi'] = 1\n",
    "print(d4)"
   ]
  },
  {
   "cell_type": "code",
   "execution_count": 68,
   "id": "c7609eb7",
   "metadata": {},
   "outputs": [
    {
     "name": "stdout",
     "output_type": "stream",
     "text": [
      "yaguchi         1\n",
      "otabe         100\n",
      "yamamura    10000\n",
      "dtype: int64\n"
     ]
    }
   ],
   "source": [
    "#要素を一括変更\n",
    "d4[1:3] = 100,10000\n",
    "print(d4)"
   ]
  },
  {
   "cell_type": "code",
   "execution_count": 69,
   "id": "251b8c0a",
   "metadata": {},
   "outputs": [],
   "source": [
    "a_list = [7, 8, 9]\n",
    "b_list = [10, 11]\n",
    "\n",
    "s7 = pd.Series(a_list)\n",
    "s8 = pd.Series(b_list)"
   ]
  },
  {
   "cell_type": "code",
   "execution_count": 70,
   "id": "f23f3ad0",
   "metadata": {},
   "outputs": [
    {
     "name": "stdout",
     "output_type": "stream",
     "text": [
      "0    7\n",
      "1    8\n",
      "2    9\n",
      "dtype: int64\n"
     ]
    }
   ],
   "source": [
    "print(s7)"
   ]
  },
  {
   "cell_type": "code",
   "execution_count": 71,
   "id": "df15fb85",
   "metadata": {},
   "outputs": [
    {
     "name": "stdout",
     "output_type": "stream",
     "text": [
      "0    10\n",
      "1    11\n",
      "dtype: int64\n"
     ]
    }
   ],
   "source": [
    "print(s8)"
   ]
  },
  {
   "cell_type": "code",
   "execution_count": 73,
   "id": "d9777a49",
   "metadata": {},
   "outputs": [
    {
     "data": {
      "text/plain": [
       "0     7\n",
       "1     8\n",
       "2     9\n",
       "0    10\n",
       "1    11\n",
       "dtype: int64"
      ]
     },
     "execution_count": 73,
     "metadata": {},
     "output_type": "execute_result"
    }
   ],
   "source": [
    "#要素の追加\n",
    "s7.append(s8)"
   ]
  },
  {
   "cell_type": "code",
   "execution_count": 74,
   "id": "462d50e1",
   "metadata": {},
   "outputs": [
    {
     "data": {
      "text/plain": [
       "0     7\n",
       "1     8\n",
       "2     9\n",
       "3    10\n",
       "4    11\n",
       "dtype: int64"
      ]
     },
     "execution_count": 74,
     "metadata": {},
     "output_type": "execute_result"
    }
   ],
   "source": [
    "#ignore_indexはインデックス番号を正しくしてくれるパラメータ\n",
    "s7.append(s8, ignore_index=True)"
   ]
  },
  {
   "cell_type": "markdown",
   "id": "8afca4b6",
   "metadata": {},
   "source": [
    "### 要素の削除"
   ]
  },
  {
   "cell_type": "code",
   "execution_count": 75,
   "id": "230be71a",
   "metadata": {},
   "outputs": [
    {
     "name": "stdout",
     "output_type": "stream",
     "text": [
      "yaguchi      10\n",
      "yamaguchi     7\n",
      "miyamoto     99\n",
      "dtype: int64\n"
     ]
    }
   ],
   "source": [
    "aa_dict = {'yaguchi': 10, 'yamaguchi': 7, 'miyamoto': 99}\n",
    "s9 = pd.Series(aa_dict)\n",
    "print(s9)"
   ]
  },
  {
   "cell_type": "code",
   "execution_count": 77,
   "id": "2a188736",
   "metadata": {},
   "outputs": [
    {
     "data": {
      "text/plain": [
       "yaguchi     10\n",
       "miyamoto    99\n",
       "dtype: int64"
      ]
     },
     "execution_count": 77,
     "metadata": {},
     "output_type": "execute_result"
    }
   ],
   "source": [
    "#要素の削除\n",
    "s9.drop(index='yamaguchi')"
   ]
  },
  {
   "cell_type": "code",
   "execution_count": 78,
   "id": "4da24269",
   "metadata": {},
   "outputs": [
    {
     "name": "stdout",
     "output_type": "stream",
     "text": [
      "yaguchi     10\n",
      "miyamoto    99\n",
      "dtype: int64\n"
     ]
    }
   ],
   "source": [
    "#上のやつは消えているようで消えていないので\n",
    "#完全に消したい場合は変数を上書いてあげる\n",
    "#かinplaceというパラメータを使ってあげる\n",
    "\n",
    "s9.drop(index='yamaguchi', inplace=True)\n",
    "print(s9)"
   ]
  },
  {
   "cell_type": "code",
   "execution_count": null,
   "id": "29b5b7d8",
   "metadata": {},
   "outputs": [],
   "source": []
  },
  {
   "cell_type": "code",
   "execution_count": null,
   "id": "debc1172",
   "metadata": {},
   "outputs": [],
   "source": []
  },
  {
   "cell_type": "code",
   "execution_count": null,
   "id": "0eebddd0",
   "metadata": {},
   "outputs": [],
   "source": []
  },
  {
   "cell_type": "code",
   "execution_count": null,
   "id": "755ff328",
   "metadata": {},
   "outputs": [],
   "source": []
  }
 ],
 "metadata": {
  "kernelspec": {
   "display_name": "Python 3",
   "language": "python",
   "name": "python3"
  },
  "language_info": {
   "codemirror_mode": {
    "name": "ipython",
    "version": 3
   },
   "file_extension": ".py",
   "mimetype": "text/x-python",
   "name": "python",
   "nbconvert_exporter": "python",
   "pygments_lexer": "ipython3",
   "version": "3.8.5"
  }
 },
 "nbformat": 4,
 "nbformat_minor": 5
}
